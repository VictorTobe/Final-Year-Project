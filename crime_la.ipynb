{
 "cells": [
  {
   "cell_type": "markdown",
   "id": "c3c2b569",
   "metadata": {},
   "source": [
    "#### Import required modules"
   ]
  },
  {
   "cell_type": "code",
   "execution_count": null,
   "id": "b7c69ca3",
   "metadata": {
    "id": "b7c69ca3"
   },
   "outputs": [],
   "source": [
    "import pandas as pd\n",
    "import matplotlib\n",
    "import numpy as np\n",
    "\n",
    "from sklearn.preprocessing import StandardScaler\n",
    "from sklearn.preprocessing import OneHotEncoder\n",
    "\n",
    "from sklearn.model_selection import train_test_split\n",
    "\n",
    "from sklearn.svm import SVC\n",
    "from sklearn.tree import DecisionTreeClassifier\n",
    "\n",
    "from sklearn.ensemble import RandomForestClassifier\n",
    "from sklearn.ensemble import GradientBoostingClassifier\n",
    "\n",
    "from sklearn.metrics import confusion_matrix, classification_report, accuracy_score"
   ]
  },
  {
   "cell_type": "code",
   "execution_count": null,
   "id": "XfG8kmtEb-yR",
   "metadata": {
    "colab": {
     "base_uri": "https://localhost:8080/"
    },
    "executionInfo": {
     "elapsed": 2558,
     "status": "ok",
     "timestamp": 1715643306735,
     "user": {
      "displayName": "Tobenna Nwankwo",
      "userId": "00275398897624901576"
     },
     "user_tz": -60
    },
    "id": "XfG8kmtEb-yR",
    "outputId": "da07aaf8-412f-4c83-bd7f-9664c0af0d69"
   },
   "outputs": [],
   "source": [
    "# from google.colab import drive\n",
    "# drive.mount('/content/drive')"
   ]
  },
  {
   "cell_type": "code",
   "execution_count": null,
   "id": "6a14f4d6",
   "metadata": {
    "colab": {
     "base_uri": "https://localhost:8080/",
     "height": 877
    },
    "executionInfo": {
     "elapsed": 9497,
     "status": "ok",
     "timestamp": 1715643316230,
     "user": {
      "displayName": "Tobenna Nwankwo",
      "userId": "00275398897624901576"
     },
     "user_tz": -60
    },
    "id": "6a14f4d6",
    "outputId": "f0c9ff21-4a61-4887-9e79-2ea13c9f3540",
    "scrolled": true
   },
   "outputs": [],
   "source": [
    "df = pd.read_csv(r\"C:\\Users\\TOBENNA\\Desktop\\FINAL YEAR PROJECT\\CRIME IN LA\\dataset.csv\")\n",
    "df"
   ]
  },
  {
   "cell_type": "code",
   "execution_count": null,
   "id": "62c9aae4",
   "metadata": {
    "colab": {
     "base_uri": "https://localhost:8080/",
     "height": 481
    },
    "executionInfo": {
     "elapsed": 1378,
     "status": "ok",
     "timestamp": 1715643317605,
     "user": {
      "displayName": "Tobenna Nwankwo",
      "userId": "00275398897624901576"
     },
     "user_tz": -60
    },
    "id": "62c9aae4",
    "outputId": "e82e872d-158f-4e30-ea42-425dfd826cca"
   },
   "outputs": [],
   "source": [
    "df['DATE OCC'] = pd.to_datetime(df['DATE OCC'], format='mixed')\n",
    "df['Year OCC'] = df['DATE OCC'].dt.year\n",
    "df['Month OCC'] = df['DATE OCC'].dt.month\n",
    "df['DAY OCC'] = df['DATE OCC'].dt.day\n",
    "df['DAY WEEK OCC'] = df['DATE OCC'].dt.day_name()\n",
    "\n",
    "df.drop(columns=['DATE OCC'], inplace=True)\n",
    "df.head()"
   ]
  },
  {
   "cell_type": "code",
   "execution_count": null,
   "id": "dba24a36",
   "metadata": {
    "colab": {
     "base_uri": "https://localhost:8080/",
     "height": 481
    },
    "executionInfo": {
     "elapsed": 8,
     "status": "ok",
     "timestamp": 1715643318102,
     "user": {
      "displayName": "Tobenna Nwankwo",
      "userId": "00275398897624901576"
     },
     "user_tz": -60
    },
    "id": "dba24a36",
    "outputId": "2e605fba-6ee6-4d1a-ddaa-3e4d9ff9a58d"
   },
   "outputs": [],
   "source": [
    "df.drop(columns=['Date Rptd'], inplace=True)\n",
    "df.head()"
   ]
  },
  {
   "cell_type": "code",
   "execution_count": null,
   "id": "f740b235",
   "metadata": {
    "colab": {
     "base_uri": "https://localhost:8080/"
    },
    "executionInfo": {
     "elapsed": 6,
     "status": "ok",
     "timestamp": 1715643318102,
     "user": {
      "displayName": "Tobenna Nwankwo",
      "userId": "00275398897624901576"
     },
     "user_tz": -60
    },
    "id": "f740b235",
    "outputId": "49c446e3-040e-431f-de61-e27cc747308f"
   },
   "outputs": [],
   "source": [
    "print(df.dtypes)"
   ]
  },
  {
   "cell_type": "code",
   "execution_count": null,
   "id": "d7d9e55e",
   "metadata": {
    "id": "d7d9e55e"
   },
   "outputs": [],
   "source": [
    "# Group all the assualts\n",
    "df.loc[df['Crm Cd Desc'].str.contains('ASSAULT'), 'Crm Cd Desc'] = 'ASSAULT'\n",
    "\n",
    "# CONVERT VEHICLE RELATED ISSUES TO VEHICLE ALTERCATION\n",
    "df.loc[df['Crm Cd Desc'].str.contains('VEHICLE'), 'Crm Cd Desc'] = 'VEHICLE ALTERCATION'\n",
    "\n",
    "# Group all the burglary\n",
    "df.loc[df['Crm Cd Desc'].str.contains('BURGLARY'), 'Crm Cd Desc'] = 'BURGLARY'\n",
    "\n",
    "# CONVERT THEFT OF IDENTITY TO IMPERSONIFICATION\n",
    "df.loc[df['Crm Cd Desc'].str.contains('THEFT OF IDENTITY'), 'Crm Cd Desc'] = 'IMPERSONIFICATION'\n",
    "\n",
    "# GROUP ALL THEFTS\n",
    "df.loc[df['Crm Cd Desc'].str.contains('THEFT'), 'Crm Cd Desc'] = 'THEFT'\n",
    "# df.loc[df['Crm Cd Desc'].str.contains('ROBBERY'), 'Crm Cd Desc'] = 'THEFT'\n",
    "df.loc[df['Crm Cd Desc'].str.contains('STOLEN'), 'Crm Cd Desc'] = 'THEFT'\n",
    "\n",
    "df.loc[df['Crm Cd Desc'].str.contains('RAPE'), 'Crm Cd Desc'] = 'SEXUAL HARASSMENT'\n",
    "df.loc[df['Crm Cd Desc'].str.contains('SEXUAL'), 'Crm Cd Desc'] = 'SEXUAL HARASSMENT'\n",
    "\n",
    "df.loc[df['Crm Cd Desc'].str.contains('VANDALISM'), 'Crm Cd Desc'] = 'VANDALISM'\n"
   ]
  },
  {
   "cell_type": "code",
   "execution_count": null,
   "id": "PsJjxKBBmwzr",
   "metadata": {
    "colab": {
     "base_uri": "https://localhost:8080/",
     "height": 877
    },
    "executionInfo": {
     "elapsed": 999,
     "status": "ok",
     "timestamp": 1715643320783,
     "user": {
      "displayName": "Tobenna Nwankwo",
      "userId": "00275398897624901576"
     },
     "user_tz": -60
    },
    "id": "PsJjxKBBmwzr",
    "outputId": "c93197af-48eb-4de7-9e25-756874741a12"
   },
   "outputs": [],
   "source": [
    "# Filter out crimes with counts less than 1000\n",
    "crime_counts = df['Crm Cd Desc'].value_counts()\n",
    "\n",
    "crimes_to_keep = crime_counts[crime_counts >= 3000].index\n",
    "df = df[df['Crm Cd Desc'].isin(crimes_to_keep)]\n",
    "\n",
    "# Print the filtered DataFrame\n",
    "df"
   ]
  },
  {
   "cell_type": "code",
   "execution_count": null,
   "id": "f6fb6291",
   "metadata": {
    "colab": {
     "base_uri": "https://localhost:8080/"
    },
    "executionInfo": {
     "elapsed": 366,
     "status": "ok",
     "timestamp": 1715643321143,
     "user": {
      "displayName": "Tobenna Nwankwo",
      "userId": "00275398897624901576"
     },
     "user_tz": -60
    },
    "id": "f6fb6291",
    "outputId": "e7525472-a19b-44ff-d67e-04defbfd7558"
   },
   "outputs": [],
   "source": [
    "#removes duplicate rows according to \"event_unique_id\"\n",
    "print('Original Data Size after dropping Duplicates')\n",
    "df = df.drop_duplicates(subset='DR_NO',keep='first')\n",
    "df.shape"
   ]
  },
  {
   "cell_type": "code",
   "execution_count": null,
   "id": "f7e05046",
   "metadata": {
    "colab": {
     "base_uri": "https://localhost:8080/",
     "height": 365
    },
    "executionInfo": {
     "elapsed": 448,
     "status": "ok",
     "timestamp": 1715643321589,
     "user": {
      "displayName": "Tobenna Nwankwo",
      "userId": "00275398897624901576"
     },
     "user_tz": -60
    },
    "id": "f7e05046",
    "outputId": "9df0ddcb-6109-445e-a41d-12bff92808f3"
   },
   "outputs": [],
   "source": [
    "drop_colmns = ['DR_NO','DAY OCC' ,'AREA','Premis Desc', 'Rpt Dist No','Part 1-2','Mocodes','Weapon Used Cd','Premis Cd','Crm Cd 1','Crm Cd 2', 'Crm Cd 3', 'Crm Cd 4','Status Desc', 'Cross Street']\n",
    "df_dropped = df.drop(columns=drop_colmns)\n",
    "df_dropped.head()"
   ]
  },
  {
   "cell_type": "code",
   "execution_count": null,
   "id": "eabead5b",
   "metadata": {},
   "outputs": [],
   "source": [
    "df = df[df['Crm Cd Desc'] != 'VIOLATION OF COURT ORDER']\n",
    "# df = df[df['Crm Cd Desc'] != 'SEX,UNLAWFUL(INC MUTUAL CONSENT, PENETRATION W/ FRGN OBJ']\n",
    "df = df[df['Crm Cd Desc'] != 'LETTERS, LEWD  -  TELEPHONE CALLS, LEWD']\n",
    "df = df[df['Crm Cd Desc'] != 'VIOLATION OF RESTRAINING ORDER ']\n",
    "# df = df[df['Crm Cd Desc'] != 'CONTEMPT OF COURT ']\n",
    "\n",
    "df"
   ]
  },
  {
   "cell_type": "code",
   "execution_count": null,
   "id": "b91aa861",
   "metadata": {
    "colab": {
     "base_uri": "https://localhost:8080/"
    },
    "executionInfo": {
     "elapsed": 8,
     "status": "ok",
     "timestamp": 1715643321589,
     "user": {
      "displayName": "Tobenna Nwankwo",
      "userId": "00275398897624901576"
     },
     "user_tz": -60
    },
    "id": "b91aa861",
    "outputId": "b376da5b-6cf4-4868-dd7b-9063bddf296d"
   },
   "outputs": [],
   "source": [
    "df['Crm Cd Desc'].value_counts()"
   ]
  },
  {
   "cell_type": "code",
   "execution_count": null,
   "id": "1f30b9b1",
   "metadata": {},
   "outputs": [],
   "source": [
    "df.shape"
   ]
  },
  {
   "cell_type": "code",
   "execution_count": null,
   "id": "bd68881d",
   "metadata": {
    "id": "bd68881d"
   },
   "outputs": [],
   "source": [
    "df_grouped = df_dropped.groupby(df_dropped['Year OCC'])"
   ]
  },
  {
   "cell_type": "code",
   "execution_count": null,
   "id": "9ad207d0",
   "metadata": {
    "id": "9ad207d0"
   },
   "outputs": [],
   "source": [
    "#Analysis by year\n",
    "df_2020 = df_grouped.get_group(2020)\n",
    "df_2021 = df_grouped.get_group(2021)\n",
    "df_2022 = df_grouped.get_group(2022)\n",
    "df_2023 = df_grouped.get_group(2023)\n",
    "df_2024 = df_grouped.get_group(2024)"
   ]
  },
  {
   "cell_type": "code",
   "execution_count": null,
   "id": "9f360c42",
   "metadata": {
    "id": "9f360c42"
   },
   "outputs": [],
   "source": [
    "df_2020_grouped = df_2020.groupby(df_2020['Crm Cd Desc']).count()\n",
    "# df_2021_grouped = df_2021.groupby(df_2021['Crm Cd Desc']).count()\n",
    "# df_2022_grouped = df_2022.groupby(df_2022['Year OCC']).count()\n",
    "# df_2023_grouped = df_2023.groupby(df_2023['Year OCC']).count()\n",
    "# df_2024_grouped = df_2024.groupby(df_2024['Year OCC']).count()\n",
    "# df_2020_grouped"
   ]
  },
  {
   "cell_type": "code",
   "execution_count": null,
   "id": "661b54ec",
   "metadata": {
    "colab": {
     "base_uri": "https://localhost:8080/",
     "height": 718
    },
    "executionInfo": {
     "elapsed": 9016,
     "status": "ok",
     "timestamp": 1715643331013,
     "user": {
      "displayName": "Tobenna Nwankwo",
      "userId": "00275398897624901576"
     },
     "user_tz": -60
    },
    "id": "661b54ec",
    "outputId": "d58b4f62-7a90-4f60-8d24-0cb3d6495719"
   },
   "outputs": [],
   "source": [
    "plot = df_2020_grouped.iloc[:,0]\n",
    "plot = pd.DataFrame(plot)\n",
    "plot.columns = ['Number of Cases']\n",
    "ax = plot.plot(kind='barh',figsize=(100,100),title='Number of Crimes in LA 2015')"
   ]
  },
  {
   "cell_type": "code",
   "execution_count": null,
   "id": "06a2bfae",
   "metadata": {
    "colab": {
     "base_uri": "https://localhost:8080/",
     "height": 463
    },
    "executionInfo": {
     "elapsed": 26,
     "status": "ok",
     "timestamp": 1715643331013,
     "user": {
      "displayName": "Tobenna Nwankwo",
      "userId": "00275398897624901576"
     },
     "user_tz": -60
    },
    "id": "06a2bfae",
    "outputId": "76dfad31-bcda-4334-ce52-05caa7aa37cc"
   },
   "outputs": [],
   "source": [
    "df.head()"
   ]
  },
  {
   "cell_type": "markdown",
   "id": "5bf202a8",
   "metadata": {},
   "source": [
    "#### Convert to numerical data using factorization"
   ]
  },
  {
   "cell_type": "code",
   "execution_count": null,
   "id": "5da34e9e",
   "metadata": {
    "colab": {
     "base_uri": "https://localhost:8080/"
    },
    "executionInfo": {
     "elapsed": 25,
     "status": "ok",
     "timestamp": 1715643331014,
     "user": {
      "displayName": "Tobenna Nwankwo",
      "userId": "00275398897624901576"
     },
     "user_tz": -60
    },
    "id": "5da34e9e",
    "outputId": "1b0ac8d6-90b5-4834-8184-5de5f1ff69de"
   },
   "outputs": [],
   "source": [
    "\n",
    "col_list = ['Year OCC', 'Month OCC', 'DAY WEEK OCC', 'TIME OCC', 'Crm Cd Desc', 'AREA NAME', 'LOCATION','Premis Desc']\n",
    "\n",
    "\n",
    "df2 = df[col_list]\n",
    "df2 = df2[df2['Year OCC'] > 2021]\n",
    "\n",
    "#Factorize dependent variable column:\n",
    "crime_var = pd.factorize(df2['Crm Cd Desc'])\n",
    "df2['Crm Cd Desc'] = crime_var[0]\n",
    "definition_list_MCI = crime_var[1]\n",
    "\n",
    "#factorize independent variables:\n",
    "premise_var = pd.factorize(df2['Premis Desc'])\n",
    "df2['Premis Desc'] = premise_var[0]\n",
    "definition_list_premise = premise_var[1]\n",
    "\n",
    "#factorize occurenceyear:\n",
    "year_var = pd.factorize(df2['Year OCC'])\n",
    "df2['Year OCC'] = year_var[0]\n",
    "definition_list_year = year_var[1]\n",
    "\n",
    "#factorize occurencemonth:\n",
    "month_var = pd.factorize(df2['Month OCC'])\n",
    "df2['Month OCC'] = month_var[0]\n",
    "definition_list_month = month_var[1]\n",
    "\n",
    "#factorize occurenceday:\n",
    "# day_var = pd.factorize(df2['DAY OCC'])\n",
    "# df2['DAY OCC'] = day_var[0]\n",
    "# definition_list_day = day_var[1]\n",
    "\n",
    "#factorize occurencedayofweek:\n",
    "dayweek_var = pd.factorize(df2['DAY WEEK OCC'])\n",
    "df2['DAY WEEK OCC'] = dayweek_var[0]\n",
    "definition_list_day = dayweek_var[1]\n",
    "\n",
    "#factorize division:\n",
    "division_var = pd.factorize(df2['AREA NAME'])\n",
    "df2['AREA NAME'] = division_var[0]\n",
    "definition_list_division = division_var[1]\n",
    "\n",
    "#factorize HOOD_ID:\n",
    "hood_var = pd.factorize(df2['LOCATION'])\n",
    "df2['LOCATION'] = hood_var[0]\n",
    "definition_list_hood = hood_var[1]\n",
    "\n",
    "#factorize occurencehour:\n",
    "hour_var = pd.factorize(df2['TIME OCC'])\n",
    "df2['TIME OCC'] = hour_var[0]\n",
    "definition_list_hour = hour_var[1]\n"
   ]
  },
  {
   "cell_type": "code",
   "execution_count": null,
   "id": "fea88095",
   "metadata": {
    "colab": {
     "base_uri": "https://localhost:8080/",
     "height": 423
    },
    "executionInfo": {
     "elapsed": 11,
     "status": "ok",
     "timestamp": 1715643331014,
     "user": {
      "displayName": "Tobenna Nwankwo",
      "userId": "00275398897624901576"
     },
     "user_tz": -60
    },
    "id": "fea88095",
    "outputId": "03c52a1a-ba06-485b-84b2-e857f1fc35c7"
   },
   "outputs": [],
   "source": [
    "df2"
   ]
  },
  {
   "cell_type": "markdown",
   "id": "0efdc341",
   "metadata": {},
   "source": [
    "#### Feature Scaling"
   ]
  },
  {
   "cell_type": "code",
   "execution_count": null,
   "id": "933615ac",
   "metadata": {},
   "outputs": [],
   "source": [
    "# Extract the feature columns from df2\n",
    "X = df2.drop(columns=['Crm Cd Desc'])\n",
    "\n",
    "# Initialize StandardScaler\n",
    "scaler = StandardScaler()\n",
    "\n",
    "# Scale the feature columns\n",
    "X_scaled = scaler.fit_transform(X)\n",
    "\n",
    "# Replace the original feature columns with the scaled ones\n",
    "df2[X.columns] = X_scaled"
   ]
  },
  {
   "cell_type": "code",
   "execution_count": null,
   "id": "41d71c18",
   "metadata": {},
   "outputs": [],
   "source": [
    "# Extract the feature columns for regular features\n",
    "x = df2[['AREA NAME', 'Premis Desc', 'DAY WEEK OCC']].values\n",
    "y = df2['Crm Cd Desc'].values\n",
    "\n",
    "# Split the data for regular features\n",
    "X_train, X_test, y_train, y_test = train_test_split(x, y, test_size=0.25, random_state=21)\n",
    "\n",
    "# Initialize OneHotEncoder\n",
    "binary_encoder = OneHotEncoder(categories='auto')\n",
    "\n",
    "# Encode the features for one-hot encoding\n",
    "encoded_X = binary_encoder.fit_transform(x)\n",
    "\n",
    "# Split the encoded features for one-hot encoding\n",
    "X_train_OH, X_test_OH, y_train_OH, y_test_OH = train_test_split(encoded_X, y, test_size=0.25, random_state=21)"
   ]
  },
  {
   "cell_type": "markdown",
   "id": "1ec9b7a2",
   "metadata": {},
   "source": [
    "#### Random Forest"
   ]
  },
  {
   "cell_type": "code",
   "execution_count": null,
   "id": "505cf3b3",
   "metadata": {
    "colab": {
     "base_uri": "https://localhost:8080/"
    },
    "executionInfo": {
     "elapsed": 66656,
     "status": "ok",
     "timestamp": 1715643885652,
     "user": {
      "displayName": "Tobenna Nwankwo",
      "userId": "00275398897624901576"
     },
     "user_tz": -60
    },
    "id": "505cf3b3",
    "outputId": "9d64c22d-b5e5-4b0c-8ef3-dc6cec7e5ad2"
   },
   "outputs": [],
   "source": [
    "\n",
    "classifier = RandomForestClassifier(n_estimators = 100 , criterion = 'entropy', random_state = 42)\n",
    "\n",
    "classifier.fit(X_train, y_train)\n",
    "y_pred = classifier.predict(X_test)\n",
    "unique_classes = np.unique(np.concatenate((y_test, y_pred)))\n",
    "target_names = [definition_list_MCI[i] for i in unique_classes]\n",
    "\n",
    "print(\"Accuracy of Random Forest : \",accuracy_score(y_test, y_pred))\n",
    "print(confusion_matrix(y_test, y_pred))\n",
    "print(classification_report(y_test, y_pred, target_names=target_names))"
   ]
  },
  {
   "cell_type": "markdown",
   "id": "8a22c885",
   "metadata": {},
   "source": [
    "#### Decision Tree"
   ]
  },
  {
   "cell_type": "code",
   "execution_count": null,
   "id": "63a701d1",
   "metadata": {},
   "outputs": [],
   "source": [
    "classifier = DecisionTreeClassifier(random_state=42)\n",
    "classifier.fit(X_train, y_train)\n",
    "y_pred = classifier.predict(X_test)\n",
    "unique_classes = np.unique(np.concatenate((y_test, y_pred)))\n",
    "target_names = [definition_list_MCI[i] for i in unique_classes]\n",
    "\n",
    "print(\"Accuracy of Decision Tree : \", accuracy_score(y_test, y_pred))\n",
    "print(confusion_matrix(y_test, y_pred))\n",
    "print(classification_report(y_test, y_pred, target_names=target_names))"
   ]
  },
  {
   "cell_type": "markdown",
   "id": "3b715f9b",
   "metadata": {},
   "source": [
    "#### SVM"
   ]
  },
  {
   "cell_type": "code",
   "execution_count": 25,
   "id": "c7dfaded",
   "metadata": {},
   "outputs": [],
   "source": [
    "classifier = SVC(kernel='rbf', random_state=42)  # You can choose different kernels here\n",
    "classifier.fit(X_train, y_train)\n",
    "y_pred = classifier.predict(X_test)\n",
    "unique_classes = np.unique(np.concatenate((y_test, y_pred)))\n",
    "target_names = [definition_list_MCI[i] for i in unique_classes]\n",
    "\n",
    "print(\"Accuracy of SVM : \", accuracy_score(y_test, y_pred))\n",
    "print(confusion_matrix(y_test, y_pred))\n",
    "print(classification_report(y_test, y_pred, target_names=target_names))"
   ]
  },
  {
   "cell_type": "code",
   "execution_count": null,
   "id": "969430ac",
   "metadata": {},
   "outputs": [],
   "source": [
    "classifier = SVC(kernel='sigmoid', random_state=42)  # You can choose different kernels here\n",
    "classifier.fit(X_train, y_train)\n",
    "y_pred = classifier.predict(X_test)\n",
    "unique_classes = np.unique(np.concatenate((y_test, y_pred)))\n",
    "target_names = [definition_list_MCI[i] for i in unique_classes]\n",
    "\n",
    "print(\"Accuracy of SVM : \", accuracy_score(y_test, y_pred))\n",
    "print(confusion_matrix(y_test, y_pred))\n",
    "print(classification_report(y_test, y_pred, target_names=target_names))"
   ]
  },
  {
   "cell_type": "code",
   "execution_count": null,
   "id": "JfXN4UKy6083",
   "metadata": {
    "id": "JfXN4UKy6083"
   },
   "outputs": [],
   "source": [
    "# y_pred = classifier.predict(X_test)"
   ]
  },
  {
   "cell_type": "code",
   "execution_count": null,
   "id": "SIFLbPUiH4OE",
   "metadata": {
    "id": "SIFLbPUiH4OE"
   },
   "outputs": [],
   "source": [
    "# y_pred = classifier.predict(np.array([1200, 2,]).reshape(1, -1))\n",
    "# print(y_pred)"
   ]
  },
  {
   "cell_type": "code",
   "execution_count": null,
   "id": "ijkcMCYmJ8Bf",
   "metadata": {
    "colab": {
     "base_uri": "https://localhost:8080/"
    },
    "executionInfo": {
     "elapsed": 15,
     "status": "ok",
     "timestamp": 1715643377745,
     "user": {
      "displayName": "Tobenna Nwankwo",
      "userId": "00275398897624901576"
     },
     "user_tz": -60
    },
    "id": "ijkcMCYmJ8Bf",
    "outputId": "3d1d409c-8031-4b61-f1e6-01ef2090717b"
   },
   "outputs": [],
   "source": [
    "# print(X_test)"
   ]
  },
  {
   "cell_type": "code",
   "execution_count": null,
   "id": "zT9cIwRt9im1",
   "metadata": {
    "colab": {
     "base_uri": "https://localhost:8080/",
     "height": 830
    },
    "executionInfo": {
     "elapsed": 587,
     "status": "ok",
     "timestamp": 1715643378318,
     "user": {
      "displayName": "Tobenna Nwankwo",
      "userId": "00275398897624901576"
     },
     "user_tz": -60
    },
    "id": "zT9cIwRt9im1",
    "outputId": "f42eab2b-92e2-4844-c0f1-33109090b2a1"
   },
   "outputs": [],
   "source": [
    "# actual_crime_labels = []\n",
    "\n",
    "# # Loop through each actual crime code and map it to the corresponding label\n",
    "# for actual_crime_code in y_test:\n",
    "#     actual_crime_label = definition_list_MCI[actual_crime_code]\n",
    "#     actual_crime_labels.append(actual_crime_label)\n",
    "\n",
    "# # Create a list to store the predicted crime labels\n",
    "# predicted_crime_labels = []\n",
    "\n",
    "# # Loop through each predicted crime code and map it to the corresponding label\n",
    "# for predicted_crime_code in y_pred:\n",
    "#     predicted_crime_label = definition_list_MCI[predicted_crime_code]\n",
    "#     predicted_crime_labels.append(predicted_crime_label)\n",
    "\n",
    "# # Create a list to store the original labels of the time\n",
    "# original_time_labels = []\n",
    "\n",
    "# # Loop through each time value in X_test and map it to the corresponding label\n",
    "# for time_value in X_test[:, 0]:\n",
    "#     original_time_label = definition_list_hour[time_value]\n",
    "#     original_time_labels.append(original_time_label)\n",
    "\n",
    "# # Create a list to store the original labels of the area\n",
    "# original_area_labels = []\n",
    "\n",
    "# # Loop through each area value in X_test and map it to the corresponding label\n",
    "# for area_value in X_test[:, 1]:\n",
    "#     original_area_label = definition_list_division[area_value]\n",
    "#     original_area_labels.append(original_area_label)\n",
    "\n",
    "# # Create a list to store the original labels of the day\n",
    "# original_day_labels = []\n",
    "\n",
    "# # Loop through each day value in X_test and map it to the corresponding label\n",
    "# for day_value in X_test[:, 2]:\n",
    "#     original_day_label = definition_list_day[day_value]\n",
    "#     original_day_labels.append(original_day_label)\n",
    "\n",
    "# # Create the testing_results DataFrame with 'Time', 'Actual Crime', 'Predicted Crime', 'Predicted Crime Label', and 'Original Time Label' columns\n",
    "# testing_results = pd.DataFrame({'Time': original_time_labels,  # Use original time labels\n",
    "#                                 'Area': original_area_labels,\n",
    "#                                 'Week Day': original_day_labels,\n",
    "#                                 'Actual Crime Label': actual_crime_labels,\n",
    "#                                 'Predicted Crime Label': predicted_crime_labels})  # Add the predicted crime labels\n",
    "\n",
    "# # Display the testing results DataFrame\n",
    "# testing_results"
   ]
  },
  {
   "cell_type": "code",
   "execution_count": null,
   "id": "j-tneE-u0qiW",
   "metadata": {
    "id": "j-tneE-u0qiW"
   },
   "outputs": [],
   "source": [
    "# predicted_crime = classifier.predict(np.array(500).reshape(1, -1))\n",
    "\n",
    "# print('predicted_crime: ', predicted_crime)\n",
    "\n",
    "# predicted_crime_label = definition_list_MCI[predicted_crime]\n",
    "# print(predicted_crime_label)"
   ]
  },
  {
   "cell_type": "code",
   "execution_count": null,
   "id": "b1545383",
   "metadata": {
    "id": "b1545383"
   },
   "outputs": [],
   "source": [
    "# classifier = RandomForestClassifier(n_estimators = 100, criterion = 'entropy', random_state = 42)\n",
    "# classifier.fit(X_train_OH, y_train_OH)\n",
    "# y_pred_OH = classifier.predict(X_test_OH)\n",
    "\n",
    "# print(\"Accuracy of Random Forest with OneHotEncoder : \",accuracy_score(y_test, y_pred))\n",
    "# print(confusion_matrix(y_test_OH, y_pred_OH))\n",
    "# print(classification_report(y_test_OH,y_pred_OH, target_names=definition_list_MCI))"
   ]
  }
 ],
 "metadata": {
  "colab": {
   "provenance": [
    {
     "file_id": "https://github.com/CyberBishop/CRIME-RATE-ANALYSIS/blob/main/crime_la.ipynb",
     "timestamp": 1715641713727
    }
   ]
  },
  "kernelspec": {
   "display_name": "Python 3 (ipykernel)",
   "language": "python",
   "name": "python3"
  },
  "language_info": {
   "codemirror_mode": {
    "name": "ipython",
    "version": 3
   },
   "file_extension": ".py",
   "mimetype": "text/x-python",
   "name": "python",
   "nbconvert_exporter": "python",
   "pygments_lexer": "ipython3",
   "version": "3.12.3"
  }
 },
 "nbformat": 4,
 "nbformat_minor": 5
}
